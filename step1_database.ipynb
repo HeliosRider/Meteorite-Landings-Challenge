{
 "cells": [
  {
   "cell_type": "code",
   "execution_count": null,
   "id": "46428594-f840-4016-951e-f9273988a3e2",
   "metadata": {},
   "outputs": [],
   "source": []
  }
 ],
 "metadata": {
  "kernelspec": {
   "display_name": "",
   "name": ""
  },
  "language_info": {
   "name": ""
  }
 },
 "nbformat": 4,
 "nbformat_minor": 5
}
