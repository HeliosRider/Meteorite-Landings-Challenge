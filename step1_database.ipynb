{
 "cells": [
  {
   "cell_type": "code",
   "execution_count": 1,
   "id": "46428594-f840-4016-951e-f9273988a3e2",
   "metadata": {},
   "outputs": [],
   "source": [
    "# import the dependencies\n",
    "from pymongo import MongoClient"
   ]
  },
  {
   "cell_type": "code",
   "execution_count": 2,
   "id": "e2a5d27a-800a-4f4e-9039-10fd36ff4b7b",
   "metadata": {},
   "outputs": [],
   "source": [
    "# The default port used by MongoDB is 27017\n",
    "# https://docs.mongodb.com/manual/reference/default-mongodb-port/\n",
    "mongo = MongoClient(port=27017)"
   ]
  },
  {
   "cell_type": "code",
   "execution_count": 4,
   "id": "854ddae3-4d21-4681-967a-01c19e512cae",
   "metadata": {},
   "outputs": [
    {
     "name": "stdout",
     "output_type": "stream",
     "text": [
      "['ClassDB', 'admin', 'autosaurus', 'config', 'db', 'epa', 'fruits_db', 'local', 'marketing', 'met', 'petsitly_marketing', 'project_3', 'uk_food']\n"
     ]
    }
   ],
   "source": [
    "# Define the 'classDB' database in Mongo\n",
    "print(mongo.list_database_names())"
   ]
  },
  {
   "cell_type": "code",
   "execution_count": 11,
   "id": "1efd1f0a-a5e3-40f8-a972-81737913048e",
   "metadata": {},
   "outputs": [],
   "source": [
    "db = mongo.project_3"
   ]
  },
  {
   "cell_type": "code",
   "execution_count": 12,
   "id": "11d97cbf-627e-46fc-9bb6-29363d4474de",
   "metadata": {},
   "outputs": [
    {
     "name": "stdout",
     "output_type": "stream",
     "text": [
      "['landings']\n"
     ]
    }
   ],
   "source": [
    "print(db.list_collection_names())"
   ]
  },
  {
   "cell_type": "code",
   "execution_count": 13,
   "id": "e4211b05-5187-4b1d-afe0-77b0bdb40db2",
   "metadata": {},
   "outputs": [
    {
     "data": {
      "text/plain": [
       "{'_id': ObjectId('6764c7e9c2bb8e541ffb1929'),\n",
       " 'name': 'Aachen',\n",
       " 'id': 1,\n",
       " 'nametype': 'Valid',\n",
       " 'recclass': 'L5',\n",
       " 'mass (g)': 21,\n",
       " 'fall': 'Fell',\n",
       " 'year': 1880,\n",
       " 'reclat': 50.775,\n",
       " 'reclong': 6.08333,\n",
       " 'GeoLocation': '(50.775, 6.08333)'}"
      ]
     },
     "execution_count": 13,
     "metadata": {},
     "output_type": "execute_result"
    }
   ],
   "source": [
    "db.landings.find_one()"
   ]
  },
  {
   "cell_type": "code",
   "execution_count": 20,
   "id": "1e5e0119-79a7-40f5-a83f-a9f39477959b",
   "metadata": {},
   "outputs": [],
   "source": [
    "#storing the collection in a avariable \n",
    "landings= db.landings"
   ]
  },
  {
   "cell_type": "code",
   "execution_count": 23,
   "id": "8d9f1609-625b-4fc0-9a13-e06193f4229f",
   "metadata": {},
   "outputs": [
    {
     "name": "stdout",
     "output_type": "stream",
     "text": [
      "{'_id': ObjectId('6764c7ebc2bb8e541ffb9103'), 'name': 'Northwest Africa 7701', 'id': 57150, 'nametype': 'Valid', 'recclass': 'CK6', 'mass (g)': 55, 'fall': 'Found', 'year': 2101, 'reclat': 0.0, 'reclong': 0.0, 'GeoLocation': '(0.0, 0.0)'}\n",
      "{'_id': ObjectId('6764c7e9c2bb8e541ffb19eb'), 'name': 'Chelyabinsk', 'id': 57165, 'nametype': 'Valid', 'recclass': 'LL5', 'mass (g)': 100000, 'fall': 'Fell', 'year': 2013, 'reclat': 54.81667, 'reclong': 61.11667, 'GeoLocation': '(54.81667, 61.11667)'}\n",
      "{'_id': ObjectId('6764c7e9c2bb8e541ffb19eb'), 'name': 'Chelyabinsk', 'id': 57165, 'nametype': 'Valid', 'recclass': 'LL5', 'mass (g)': 100000, 'fall': 'Fell', 'year': 2013, 'reclat': 54.81667, 'reclong': 61.11667, 'GeoLocation': '(54.81667, 61.11667)'}\n",
      "{'_id': ObjectId('6764c7e9c2bb8e541ffb19eb'), 'name': 'Chelyabinsk', 'id': 57165, 'nametype': 'Valid', 'recclass': 'LL5', 'mass (g)': 100000, 'fall': 'Fell', 'year': 2013, 'reclat': 54.81667, 'reclong': 61.11667, 'GeoLocation': '(54.81667, 61.11667)'}\n",
      "{'_id': ObjectId('6764c7e9c2bb8e541ffb19eb'), 'name': 'Chelyabinsk', 'id': 57165, 'nametype': 'Valid', 'recclass': 'LL5', 'mass (g)': 100000, 'fall': 'Fell', 'year': 2013, 'reclat': 54.81667, 'reclong': 61.11667, 'GeoLocation': '(54.81667, 61.11667)'}\n"
     ]
    }
   ],
   "source": [
    "#Create a query that sorts in descending order \n",
    "query={}\n",
    "sort= [('year',-1)]\n",
    "\n",
    "#Capture the results to a variable \n",
    "results = landings.find(query).sort(sort)\n",
    "\n",
    "#Print the first five results\n",
    "for i in range(5):\n",
    "    print(results[i])"
   ]
  },
  {
   "cell_type": "code",
   "execution_count": 25,
   "id": "044dcecb-6f43-4757-879e-90ffca4cf897",
   "metadata": {},
   "outputs": [
    {
     "name": "stdout",
     "output_type": "stream",
     "text": [
      "{'_id': ObjectId('6764c7e9c2bb8e541ffb1929'), 'name': 'Aachen', 'id': 1, 'nametype': 'Valid', 'recclass': 'L5', 'mass (g)': 21, 'fall': 'Fell', 'year': 1880, 'reclat': 50.775, 'reclong': 6.08333, 'GeoLocation': '(50.775, 6.08333)'}\n"
     ]
    }
   ],
   "source": [
    "#Find the number of landings with name ; AAchen'\n",
    "query = {'name': 'Aachen'}\n",
    "results= landings.find(query)\n",
    "for result in results:\n",
    "    print(result)"
   ]
  },
  {
   "cell_type": "code",
   "execution_count": 28,
   "id": "3f40344f-6fa7-4691-b395-39008887fc2e",
   "metadata": {},
   "outputs": [
    {
     "name": "stdout",
     "output_type": "stream",
     "text": [
      "{'_id': ObjectId('6764c7e9c2bb8e541ffb19eb'), 'name': 'Chelyabinsk', 'id': 57165, 'nametype': 'Valid', 'recclass': 'LL5', 'mass (g)': 100000, 'fall': 'Fell', 'year': 2013, 'reclat': 54.81667, 'reclong': 61.11667, 'GeoLocation': '(54.81667, 61.11667)'}\n"
     ]
    }
   ],
   "source": [
    "#Find the number of landings with name ; Chelyabinsk'\n",
    "query = {'name': 'Chelyabinsk'}\n",
    "results= landings.find(query)\n",
    "for result in results:\n",
    "    print(result)"
   ]
  },
  {
   "cell_type": "code",
   "execution_count": 29,
   "id": "86674398-32e2-4419-b4c3-02e2bd4ef6f9",
   "metadata": {},
   "outputs": [
    {
     "name": "stdout",
     "output_type": "stream",
     "text": [
      "{'_id': ObjectId('6764c7e9c2bb8e541ffb1929'), 'name': 'Aachen', 'id': 1, 'nametype': 'Valid', 'recclass': 'L5', 'mass (g)': 21, 'fall': 'Fell', 'year': 1880, 'reclat': 50.775, 'reclong': 6.08333, 'GeoLocation': '(50.775, 6.08333)'}\n",
      "{'_id': ObjectId('6764c7e9c2bb8e541ffb194a'), 'name': 'Andhara', 'id': 2294, 'nametype': 'Valid', 'recclass': 'Stone-uncl', 'mass (g)': 2700, 'fall': 'Fell', 'year': 1880, 'reclat': 26.58333, 'reclong': 85.56667, 'GeoLocation': '(26.58333, 85.56667)'}\n",
      "{'_id': ObjectId('6764c7e9c2bb8e541ffb19f1'), 'name': 'Chetrinahatti', 'id': 5344, 'nametype': 'Valid', 'recclass': 'Stone-uncl', 'mass (g)': 72, 'fall': 'Fell', 'year': 1880, 'reclat': 14.5, 'reclong': 76.5, 'GeoLocation': '(14.5, 76.5)'}\n",
      "{'_id': ObjectId('6764c7e9c2bb8e541ffb1c71'), 'name': 'Ratyn', 'id': 22398, 'nametype': 'Valid', 'recclass': 'Stone-uncl', 'mass (g)': 910, 'fall': 'Fell', 'year': 1880, 'reclat': 52.2, 'reclong': 17.98333, 'GeoLocation': '(52.2, 17.98333)'}\n",
      "{'_id': ObjectId('6764c7e9c2bb8e541ffb1cf8'), 'name': 'Takenouchi', 'id': 23789, 'nametype': 'Valid', 'recclass': 'H5', 'mass (g)': 720, 'fall': 'Fell', 'year': 1880, 'reclat': 35.38333, 'reclong': 134.9, 'GeoLocation': '(35.38333, 134.9)'}\n",
      "{'_id': ObjectId('6764c7eac2bb8e541ffb1d41'), 'name': 'Veramin', 'id': 24162, 'nametype': 'Valid', 'recclass': 'Mesosiderite-B2', 'mass (g)': 54000, 'fall': 'Fell', 'year': 1880, 'reclat': 35.33333, 'reclong': 51.63333, 'GeoLocation': '(35.33333, 51.63333)'}\n",
      "{'_id': ObjectId('6764c7eac2bb8e541ffb1d5a'), 'name': 'Wittekrantz', 'id': 24323, 'nametype': 'Valid', 'recclass': 'L5', 'mass (g)': 2200, 'fall': 'Fell', 'year': 1880, 'reclat': -32.5, 'reclong': 23.0, 'GeoLocation': '(-32.5, 23.0)'}\n",
      "{'_id': ObjectId('6764c7eac2bb8e541ffb2d1d'), 'name': 'Bingera', 'id': 5050, 'nametype': 'Valid', 'recclass': 'Iron, IIAB', 'mass (g)': 10841, 'fall': 'Found', 'year': 1880, 'reclat': -29.88333, 'reclong': 150.56667, 'GeoLocation': '(-29.88333, 150.56667)'}\n",
      "{'_id': ObjectId('6764c7eac2bb8e541ffb2ea6'), 'name': 'Colfax', 'id': 5402, 'nametype': 'Valid', 'recclass': 'Iron, IAB-ung', 'mass (g)': 2300, 'fall': 'Found', 'year': 1880, 'reclat': 35.3, 'reclong': -81.73333, 'GeoLocation': '(35.3, -81.73333)'}\n",
      "{'_id': ObjectId('6764c7eac2bb8e541ffb3d0a'), 'name': 'Eagle Station', 'id': 7761, 'nametype': 'Valid', 'recclass': 'Pallasite, PES', 'mass (g)': 36000, 'fall': 'Found', 'year': 1880, 'reclat': 38.61667, 'reclong': -84.96667, 'GeoLocation': '(38.61667, -84.96667)'}\n",
      "{'_id': ObjectId('6764c7eac2bb8e541ffb4c09'), 'name': 'Greenbrier County', 'id': 11194, 'nametype': 'Valid', 'recclass': 'Iron, IIIAB', 'mass (g)': 5000, 'fall': 'Found', 'year': 1880, 'reclat': 37.83333, 'reclong': -80.31667, 'GeoLocation': '(37.83333, -80.31667)'}\n",
      "{'_id': ObjectId('6764c7eac2bb8e541ffb59c6'), 'name': 'Ivanpah', 'id': 12062, 'nametype': 'Valid', 'recclass': 'Iron, IIIAB', 'mass (g)': 58000, 'fall': 'Found', 'year': 1880, 'reclat': 35.33333, 'reclong': -115.31667, 'GeoLocation': '(35.33333, -115.31667)'}\n",
      "{'_id': ObjectId('6764c7eac2bb8e541ffb59d7'), 'name': 'Jiapigou', 'id': 12088, 'nametype': 'Valid', 'recclass': 'Stone-uncl', 'fall': 'Found', 'year': 1880, 'reclat': 42.83333, 'reclong': 127.5, 'GeoLocation': '(42.83333, 127.5)'}\n",
      "{'_id': ObjectId('6764c7eac2bb8e541ffb6da9'), 'name': 'Lexington County', 'id': 14644, 'nametype': 'Valid', 'recclass': 'Iron, IAB-MG', 'mass (g)': 4760, 'fall': 'Found', 'year': 1880, 'reclat': 34.0, 'reclong': -81.25, 'GeoLocation': '(34.0, -81.25)'}\n",
      "{'_id': ObjectId('6764c7ebc2bb8e541ffb7fdb'), 'name': 'Muizenberg', 'id': 16844, 'nametype': 'Valid', 'recclass': 'L6', 'mass (g)': 4610, 'fall': 'Found', 'year': 1880, 'reclat': -34.1, 'reclong': 18.46667, 'GeoLocation': '(-34.1, 18.46667)'}\n"
     ]
    }
   ],
   "source": [
    "# Find the number of landinds  with year 1880\n",
    "query= {'year': 1880}\n",
    "results= landings.find(query)\n",
    "for result in results:\n",
    "    print(result)"
   ]
  },
  {
   "cell_type": "code",
   "execution_count": 40,
   "id": "92884b90-2a35-4348-b9f6-62fe539531fd",
   "metadata": {},
   "outputs": [
    {
     "name": "stdout",
     "output_type": "stream",
     "text": [
      "{'_id': ObjectId('6764c7e9c2bb8e541ffb1c71'), 'name': 'Ratyn', 'id': 22398, 'nametype': 'Valid', 'recclass': 'Stone-uncl', 'mass (g)': 910, 'fall': 'Fell', 'year': 1880, 'reclat': 52.2, 'reclong': 17.98333, 'GeoLocation': '(52.2, 17.98333)'}\n",
      "{'_id': ObjectId('6764c7e9c2bb8e541ffb1cf8'), 'name': 'Takenouchi', 'id': 23789, 'nametype': 'Valid', 'recclass': 'H5', 'mass (g)': 720, 'fall': 'Fell', 'year': 1880, 'reclat': 35.38333, 'reclong': 134.9, 'GeoLocation': '(35.38333, 134.9)'}\n",
      "{'_id': ObjectId('6764c7e9c2bb8e541ffb194a'), 'name': 'Andhara', 'id': 2294, 'nametype': 'Valid', 'recclass': 'Stone-uncl', 'mass (g)': 2700, 'fall': 'Fell', 'year': 1880, 'reclat': 26.58333, 'reclong': 85.56667, 'GeoLocation': '(26.58333, 85.56667)'}\n",
      "{'_id': ObjectId('6764c7e9c2bb8e541ffb1929'), 'name': 'Aachen', 'id': 1, 'nametype': 'Valid', 'recclass': 'L5', 'mass (g)': 21, 'fall': 'Fell', 'year': 1880, 'reclat': 50.775, 'reclong': 6.08333, 'GeoLocation': '(50.775, 6.08333)'}\n",
      "{'_id': ObjectId('6764c7e9c2bb8e541ffb19f1'), 'name': 'Chetrinahatti', 'id': 5344, 'nametype': 'Valid', 'recclass': 'Stone-uncl', 'mass (g)': 72, 'fall': 'Fell', 'year': 1880, 'reclat': 14.5, 'reclong': 76.5, 'GeoLocation': '(14.5, 76.5)'}\n"
     ]
    }
   ],
   "source": [
    "#create a query that starts in ascending order year= 1880 and limit the first 5 \n",
    "query = {'year':1880}\n",
    "sort = [('year',1)]\n",
    "limit= 5\n",
    "\n",
    "result = landings.find(query).sort(sort).limit(limit)\n",
    "for i in result :\n",
    "     print(i)\n",
    "\n",
    "#Print the results \n",
    "# print(list(landings.find(query).sort(sort).limit(limit)))\n",
    "\n",
    "# landings.find(query).sort(sort).limit(limit)\n"
   ]
  },
  {
   "cell_type": "code",
   "execution_count": 43,
   "id": "41eb1575-f9df-41f6-89a3-3547aec97b0f",
   "metadata": {},
   "outputs": [
    {
     "name": "stdout",
     "output_type": "stream",
     "text": [
      "{'_id': ObjectId('6764c7e9c2bb8e541ffb1c16'), 'name': 'Pacula', 'id': 18068, 'nametype': 'Valid', 'recclass': 'L6', 'mass (g)': 3400, 'fall': 'Fell', 'year': 1881, 'reclat': 21.05, 'reclong': -99.3, 'GeoLocation': '(21.05, -99.3)'}\n",
      "{'_id': ObjectId('6764c7e9c2bb8e541ffb1a7e'), 'name': 'Grossliebenthal', 'id': 11208, 'nametype': 'Valid', 'recclass': 'L6', 'mass (g)': 8000, 'fall': 'Fell', 'year': 1881, 'reclat': 46.35, 'reclong': 30.58333, 'GeoLocation': '(46.35, 30.58333)'}\n",
      "{'_id': ObjectId('6764c7eac2bb8e541ffb1f1f'), 'name': 'Admire', 'id': 380, 'nametype': 'Valid', 'recclass': 'Pallasite, PMG', 'mass (g)': 180000, 'fall': 'Found', 'year': 1881, 'reclat': 38.7, 'reclong': -96.1, 'GeoLocation': '(38.7, -96.1)'}\n",
      "{'_id': ObjectId('6764c7e9c2bb8e541ffb1c45'), 'name': 'Piquetberg', 'id': 18832, 'nametype': 'Valid', 'recclass': 'H', 'mass (g)': 37, 'fall': 'Fell', 'year': 1881, 'reclat': -32.86667, 'reclong': 18.71667, 'GeoLocation': '(-32.86667, 18.71667)'}\n",
      "{'_id': ObjectId('6764c7e9c2bb8e541ffb1b94'), 'name': 'Middlesbrough', 'id': 16632, 'nametype': 'Valid', 'recclass': 'L6', 'mass (g)': 1600, 'fall': 'Fell', 'year': 1881, 'reclat': 54.56667, 'reclong': -1.16667, 'GeoLocation': '(54.56667, -1.16667)'}\n"
     ]
    }
   ],
   "source": [
    "# create a query that :\n",
    "#find year 1880 or 1881\n",
    "# sort in descending ordeer by car_year\n",
    "# limit the result to the first 5 \n",
    "\n",
    "query={'year':{'$in': [1880, 1881]}}\n",
    "sort= [('year', -1)]\n",
    "limit= 5\n",
    "\n",
    "# # print the results\n",
    "# print(list(landings.find(query).sort(sort).limit(limit)))\n",
    "\n",
    "result = landings.find(query).sort(sort).limit(limit)\n",
    "for r in result :\n",
    "    print(r)"
   ]
  },
  {
   "cell_type": "code",
   "execution_count": null,
   "id": "2b584c77-5287-4067-b0f4-06604e94381f",
   "metadata": {},
   "outputs": [],
   "source": []
  }
 ],
 "metadata": {
  "kernelspec": {
   "display_name": "Python 3 (ipykernel)",
   "language": "python",
   "name": "python3"
  },
  "language_info": {
   "codemirror_mode": {
    "name": "ipython",
    "version": 3
   },
   "file_extension": ".py",
   "mimetype": "text/x-python",
   "name": "python",
   "nbconvert_exporter": "python",
   "pygments_lexer": "ipython3",
   "version": "3.12.6"
  }
 },
 "nbformat": 4,
 "nbformat_minor": 5
}
